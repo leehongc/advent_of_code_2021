{
 "cells": [
  {
   "cell_type": "markdown",
   "metadata": {},
   "source": [
    "### Day 1: Sonar Sweep"
   ]
  },
  {
   "cell_type": "code",
   "execution_count": 1,
   "metadata": {},
   "outputs": [
    {
     "data": {
      "text/plain": [
       "['131', '140', '136', '135', '155', '175', '178', '186', '187', '189']"
      ]
     },
     "execution_count": 1,
     "metadata": {},
     "output_type": "execute_result"
    }
   ],
   "source": [
    "'''Part 1: The goal of this challenge is to determine the number of times a depth measurement increases'''\n",
    "\n",
    "f = open('./input_files/day1_input.txt', 'r')\n",
    "file = f.read().splitlines()\n",
    "file = file\n",
    "file[:10]"
   ]
  },
  {
   "cell_type": "code",
   "execution_count": 2,
   "metadata": {},
   "outputs": [],
   "source": [
    "def num_depth_increase(input_list):\n",
    "    counter = 0\n",
    "    for i in range(len(input_list)-1):\n",
    "        if int(input_list[i+1]) > int(input_list[i]):\n",
    "            counter+=1\n",
    "    return counter"
   ]
  },
  {
   "cell_type": "code",
   "execution_count": 3,
   "metadata": {},
   "outputs": [
    {
     "data": {
      "text/plain": [
       "1466"
      ]
     },
     "execution_count": 3,
     "metadata": {},
     "output_type": "execute_result"
    }
   ],
   "source": [
    "num_depth_increase(file)"
   ]
  },
  {
   "cell_type": "code",
   "execution_count": 4,
   "metadata": {},
   "outputs": [],
   "source": [
    "'''Part 2: Determine the number of times a depth measure increases based on a three-measurement window'''\n",
    "\n",
    "def num_depth_3window_increase(input_list):\n",
    "    counter = 0\n",
    "    for i in range(len(input_list)-3):\n",
    "        first = int(input_list[i]) + int(input_list[i+1]) + int(input_list[i+2])\n",
    "        second = int(input_list[i+1]) + int(input_list[i+2]) + int(input_list[i+3])\n",
    "        if second > first:\n",
    "            counter += 1\n",
    "    return counter                     "
   ]
  },
  {
   "cell_type": "code",
   "execution_count": 5,
   "metadata": {},
   "outputs": [
    {
     "data": {
      "text/plain": [
       "1491"
      ]
     },
     "execution_count": 5,
     "metadata": {},
     "output_type": "execute_result"
    }
   ],
   "source": [
    "num_depth_3window_increase(file)"
   ]
  },
  {
   "cell_type": "markdown",
   "metadata": {},
   "source": [
    "### Day 2: Dive"
   ]
  },
  {
   "cell_type": "code",
   "execution_count": 6,
   "metadata": {},
   "outputs": [
    {
     "data": {
      "text/plain": [
       "['forward 9', 'down 8', 'down 2', 'down 4', 'up 8']"
      ]
     },
     "execution_count": 6,
     "metadata": {},
     "output_type": "execute_result"
    }
   ],
   "source": [
    "'''\n",
    "Part 1:\n",
    "forward X increases the horizontal position by X units.\n",
    "down X increases the depth by X units.\n",
    "up X decreases the depth by X units.\n",
    "\n",
    "Calculate the final horizontal position multiplied by the final depth\n",
    "'''\n",
    "\n",
    "f = open('./input_files/day2_input.txt', 'r')\n",
    "day2file = f.read().splitlines()\n",
    "day2file[:5]"
   ]
  },
  {
   "cell_type": "code",
   "execution_count": 7,
   "metadata": {},
   "outputs": [
    {
     "data": {
      "text/plain": [
       "2091984"
      ]
     },
     "execution_count": 7,
     "metadata": {},
     "output_type": "execute_result"
    }
   ],
   "source": [
    "def final_position(input_list):\n",
    "    x = 0\n",
    "    z = 0\n",
    "    for i in input_list:\n",
    "        direction, value = i.split(' ')\n",
    "        value = int(value)\n",
    "        if direction == 'forward':\n",
    "            x += value\n",
    "        elif direction == 'down':\n",
    "            z += value\n",
    "        else:\n",
    "            z -= value\n",
    "    return x*z\n",
    "\n",
    "final_position(day2file)"
   ]
  },
  {
   "cell_type": "code",
   "execution_count": 8,
   "metadata": {},
   "outputs": [],
   "source": [
    "'''\n",
    "Part 2: Need to track a new unit \"aim\".\n",
    "\n",
    "down X increases your aim by X units.\n",
    "up X decreases your aim by X units.\n",
    "forward X does two things:\n",
    "It increases your horizontal position by X units.\n",
    "It increases your depth by your aim multiplied by X.\n",
    "'''\n",
    "\n",
    "testinput = [\n",
    "'forward 5',\n",
    "'down 5',\n",
    "'forward 8',\n",
    "'up 3',\n",
    "'down 8',\n",
    "'forward 2'\n",
    "]"
   ]
  },
  {
   "cell_type": "code",
   "execution_count": 9,
   "metadata": {},
   "outputs": [],
   "source": [
    "def final_position_with_aim(input_list):\n",
    "    x = 0\n",
    "    z = 0\n",
    "    a = 0\n",
    "    for i in input_list:\n",
    "        direction, value = i.split(' ')\n",
    "        value = int(value)\n",
    "        if direction == 'forward':\n",
    "            x += value\n",
    "            z += a*value\n",
    "        elif direction == 'down':\n",
    "            a += value\n",
    "        else:\n",
    "            a -= value\n",
    "\n",
    "\n",
    "    return x * z\n"
   ]
  },
  {
   "cell_type": "code",
   "execution_count": 10,
   "metadata": {},
   "outputs": [
    {
     "data": {
      "text/plain": [
       "2086261056"
      ]
     },
     "execution_count": 10,
     "metadata": {},
     "output_type": "execute_result"
    }
   ],
   "source": [
    "final_position_with_aim(day2file)"
   ]
  },
  {
   "cell_type": "markdown",
   "metadata": {},
   "source": [
    "### Day 3: Binary Diagnostic"
   ]
  },
  {
   "cell_type": "code",
   "execution_count": 11,
   "metadata": {},
   "outputs": [
    {
     "data": {
      "text/plain": [
       "['011000110010',\n",
       " '111011101000',\n",
       " '110100110010',\n",
       " '011010101110',\n",
       " '111010100100']"
      ]
     },
     "execution_count": 11,
     "metadata": {},
     "output_type": "execute_result"
    }
   ],
   "source": [
    "'''\n",
    "Part 1:\n",
    "Each bit in the gamma rate can be determined by finding the most \n",
    "common bit in the corresponding position of all numbers in the diagnostic report.\n",
    "\n",
    "The epsilon rate is calculated in a similar way; rather than use the most common bit,\n",
    "the least common bit from each position is used.\n",
    "\n",
    "Use the binary numbers in your diagnostic report to calculate the gamma rate and epsilon rate,\n",
    "then multiply them together.\n",
    "'''\n",
    "\n",
    "f = open('./input_files/day3_input.txt', 'r')\n",
    "file = f.read().splitlines()\n",
    "\n",
    "testinput = [\n",
    "'00100',\n",
    "'11110',\n",
    "'10110',\n",
    "'10111',\n",
    "'10101',\n",
    "'01111',\n",
    "'00111',\n",
    "'11100',\n",
    "'10000',\n",
    "'11001',\n",
    "'00010',\n",
    "'01010'\n",
    "]\n",
    "\n",
    "file[:5]"
   ]
  },
  {
   "cell_type": "code",
   "execution_count": 12,
   "metadata": {},
   "outputs": [
    {
     "data": {
      "text/plain": [
       "3813416"
      ]
     },
     "execution_count": 12,
     "metadata": {},
     "output_type": "execute_result"
    }
   ],
   "source": [
    "def gamma_rate(i, input_list):\n",
    "    zero = 0\n",
    "    one = 0\n",
    "    for item in input_list:\n",
    "        if item[i] == '0':\n",
    "            zero+=1\n",
    "        else:\n",
    "            one+=1\n",
    "    if zero > one:\n",
    "        return '0'\n",
    "    else:\n",
    "        return '1'\n",
    "    \n",
    "    \n",
    "def epsilon_rate(i, input_list):\n",
    "    zero = 0\n",
    "    one = 0\n",
    "    for item in input_list:\n",
    "        if item[i] == '0':\n",
    "            zero+=1\n",
    "        else:\n",
    "            one+=1\n",
    "    if zero > one:\n",
    "        return '1'\n",
    "    else:\n",
    "        return '0'\n",
    "    \n",
    "\n",
    "def binary_to_decimal(binary):\n",
    "    i = len(binary)-1\n",
    "    dec = 0\n",
    "    while i >= 0:\n",
    "        dec += int(binary[i])* 2**abs(i-(len(binary)-1))\n",
    "        i-=1\n",
    "    return dec\n",
    "\n",
    "\n",
    "def rate_to_decimal(input_list, rate_type):\n",
    "    rate = ''\n",
    "    for i in range(len(input_list[0])):\n",
    "        if rate_type == 'gamma':\n",
    "            rate+=(gamma_rate(i, input_list))\n",
    "        else:\n",
    "            rate+=(epsilon_rate(i, input_list))\n",
    "    return binary_to_decimal(rate)\n",
    "        \n",
    "\n",
    "def final_solution(input_file):\n",
    "    gamma = rate_to_decimal(input_file, 'gamma')\n",
    "    epsilon = rate_to_decimal(input_file, 'epsilon')\n",
    "    return gamma*epsilon\n",
    "\n",
    "final_solution(file)"
   ]
  },
  {
   "cell_type": "code",
   "execution_count": 13,
   "metadata": {},
   "outputs": [],
   "source": [
    "'''\n",
    "Part 2:\n",
    "The bit criteria depends on which type of rating value you want to find:\n",
    "\n",
    "Keep only numbers from this below bit criteria:\n",
    "\n",
    "To find oxygen generator rating, determine the most common value (0 or 1) \n",
    "in the current bit position, and keep only numbers with that bit in that position.\n",
    "If 0 and 1 are equally common, keep values with a 1 in the position being considered.\n",
    "To find CO2 scrubber rating, determine the least common value (0 or 1) in the current\n",
    "bit position, and keep only numbers with that bit in that position. If 0 and 1 are equally common,\n",
    "keep values with a 0 in the position being considered.\n",
    "'''\n",
    "\n",
    "f = open('./input_files/day3_input.txt', 'r')\n",
    "file = f.read().splitlines()"
   ]
  },
  {
   "cell_type": "code",
   "execution_count": 14,
   "metadata": {},
   "outputs": [],
   "source": [
    "def gamma_bit(input_list):\n",
    "    i = 0\n",
    "    while i < len(input_list[0]) and len(input_list)>1:\n",
    "        temp_list = []\n",
    "        for item in input_list:\n",
    "            if item[i] == gamma_rate(i, input_list):\n",
    "                temp_list.append(item)\n",
    "        input_list = temp_list\n",
    "        i+=1\n",
    "    return binary_to_decimal(input_list[0])\n",
    "\n",
    "\n",
    "\n",
    "\n",
    "def epsilon_bit(input_list):\n",
    "    i = 0\n",
    "    while i < len(input_list[0]) and len(input_list)>1:\n",
    "        temp_list = []\n",
    "        for item in input_list:\n",
    "            if item[i] == epsilon_rate(i, input_list):\n",
    "                temp_list.append(item)\n",
    "        input_list = temp_list\n",
    "        i+=1\n",
    "    return binary_to_decimal(input_list[0])\n",
    "\n",
    "\n",
    "\n"
   ]
  },
  {
   "cell_type": "code",
   "execution_count": 15,
   "metadata": {},
   "outputs": [
    {
     "data": {
      "text/plain": [
       "2990784"
      ]
     },
     "execution_count": 15,
     "metadata": {},
     "output_type": "execute_result"
    }
   ],
   "source": [
    "gamma_bit(file)*epsilon_bit(file)\n"
   ]
  },
  {
   "cell_type": "markdown",
   "metadata": {},
   "source": [
    "### Day 4: Giant Squid"
   ]
  },
  {
   "cell_type": "code",
   "execution_count": 16,
   "metadata": {},
   "outputs": [],
   "source": [
    "'''\n",
    "Part 1:\n",
    "The score of the winning board can now be calculated. \n",
    "Start by finding the sum of all unmarked numbers on that board;\n",
    "Then, multiply that sum by the \n",
    "number that was just called when the board won, to get the final score.\n",
    "\n",
    "To guarantee victory against the giant squid, figure out \n",
    "which board will win first. What will your final score be if you choose that board?\n",
    "'''\n",
    "\n",
    "f = open('./input_files/day4_input.txt', 'r')\n",
    "file = f.read().splitlines()\n",
    "\n",
    "draw_numbers = file[0].split(',')\n",
    "boards = [x for x in file[1:] if len(x)>1]\n",
    "\n",
    "\n",
    "# Separating the boards into individual boards\n",
    "b = boards.copy()\n",
    "sep_boards = []\n",
    "while len(b)>0:\n",
    "    temp = []\n",
    "    for i in range(5):\n",
    "        line = b.pop(0)\n",
    "        line = line.split()\n",
    "        temp.append(line)\n",
    "    sep_boards.append(temp)"
   ]
  },
  {
   "cell_type": "code",
   "execution_count": 17,
   "metadata": {},
   "outputs": [],
   "source": [
    "def check_vertical_match(board, col_num):\n",
    "    # This function checks for any vertical matches based on the input column number\n",
    "    \n",
    "    count = 0\n",
    "    for rows in board:\n",
    "        if rows[col_num] == '':\n",
    "            count+=1\n",
    "    if count == 5:\n",
    "        return True\n",
    "    else:\n",
    "        return False\n"
   ]
  },
  {
   "cell_type": "code",
   "execution_count": 18,
   "metadata": {},
   "outputs": [],
   "source": [
    "def check_horizontal_match(board, row_num):\n",
    "    # This function checks for horizontal matches based on the input row number\n",
    "    \n",
    "    count = 0\n",
    "    for item in board[row_num]:\n",
    "        if item == '':\n",
    "            count+=1\n",
    "    if count == 5:\n",
    "        return True\n",
    "    else:\n",
    "        return False\n",
    "    "
   ]
  },
  {
   "cell_type": "code",
   "execution_count": 19,
   "metadata": {},
   "outputs": [],
   "source": [
    "# def check_diagonal_match(board):\n",
    "#     # This function checks for diagonal matches\n",
    "    \n",
    "#     count = 0\n",
    "#     for i, j in enumerate(range(5)):\n",
    "#         if board[i][j] == '':\n",
    "#             count +=1\n",
    "#     if count == 5:\n",
    "#          return True\n",
    "#     count = 0\n",
    "#     for i, j in zip(range(5), range(4, -1, -1)):\n",
    "#         if board[i][j] == '':\n",
    "#             count +=1\n",
    "#     if count == 5:\n",
    "#         return True\n",
    "#     else:\n",
    "#         return False"
   ]
  },
  {
   "cell_type": "code",
   "execution_count": 20,
   "metadata": {},
   "outputs": [],
   "source": [
    "def check_bingo(board):\n",
    "    for i in range(5):\n",
    "        if check_vertical_match(board, i) == True or check_horizontal_match(board, i) == True:\n",
    "            return True\n",
    "        \n",
    "#     if check_diagonal_match(board) == True:\n",
    "#         return True\n",
    "    else:\n",
    "        return False"
   ]
  },
  {
   "cell_type": "code",
   "execution_count": 21,
   "metadata": {},
   "outputs": [],
   "source": [
    "def board_sum(board):\n",
    "    total =0\n",
    "    for row in board:\n",
    "        for item in row:\n",
    "            if len(item)>0:\n",
    "                total += int(item)\n",
    "    return total"
   ]
  },
  {
   "cell_type": "code",
   "execution_count": 22,
   "metadata": {},
   "outputs": [
    {
     "data": {
      "text/plain": [
       "6592"
      ]
     },
     "execution_count": 22,
     "metadata": {},
     "output_type": "execute_result"
    }
   ],
   "source": [
    "def drawing(number):\n",
    "    for b in range(len(sep_boards)):\n",
    "        for i in range(5):\n",
    "            for j in range(5):\n",
    "                if sep_boards[b][i][j] == number:\n",
    "                    sep_boards[b][i][j] = ''\n",
    "\n",
    "def solution():\n",
    "    for i in range(len(draw_numbers)):\n",
    "        drawing(draw_numbers[i])\n",
    "        for board in sep_boards:\n",
    "            if check_bingo(board) == True:\n",
    "                return (board_sum(board)*int(draw_numbers[i]))\n",
    "             \n",
    "solution()"
   ]
  },
  {
   "cell_type": "code",
   "execution_count": 23,
   "metadata": {
    "scrolled": false
   },
   "outputs": [
    {
     "data": {
      "text/plain": [
       "31755"
      ]
     },
     "execution_count": 23,
     "metadata": {},
     "output_type": "execute_result"
    }
   ],
   "source": [
    "'''\n",
    "Part 2:\n",
    "Figure out which board will win last. Once it wins, what would its final score be?\n",
    "'''\n",
    "\n",
    "f = open('./input_files/day4_input.txt', 'r')\n",
    "file = f.read().splitlines()\n",
    "\n",
    "draw_numbers = file[0].split(',')\n",
    "boards = [x for x in file[1:] if len(x)>1]\n",
    "\n",
    "\n",
    "# Separating the boards into individual boards\n",
    "b = boards.copy()\n",
    "sep_boards = []\n",
    "while len(b)>0:\n",
    "    temp = []\n",
    "    for i in range(5):\n",
    "        line = b.pop(0)\n",
    "        line = line.split()\n",
    "        temp.append(line)\n",
    "    sep_boards.append(temp)\n",
    "    \n",
    "    \n",
    "def drawing(number):\n",
    "    for b in range(len(sep_boards)):\n",
    "        for i in range(5):\n",
    "            for j in range(5):\n",
    "                if sep_boards[b][i][j] == number:\n",
    "                    sep_boards[b][i][j] = ''\n",
    "\n",
    "def solution():\n",
    "    winning_list = []\n",
    "    for i in range(len(draw_numbers)):\n",
    "        drawing(draw_numbers[i])\n",
    "        for board in sep_boards:\n",
    "            if check_bingo(board) == True:\n",
    "                winning_list.append(board_sum(board)*int(draw_numbers[i]))\n",
    "                sep_boards.remove(board)\n",
    "                    \n",
    "    return winning_list\n",
    "\n",
    "solution()[-1]"
   ]
  },
  {
   "cell_type": "markdown",
   "metadata": {},
   "source": [
    "### Day 4: Hydrothermal Venture"
   ]
  },
  {
   "cell_type": "code",
   "execution_count": 24,
   "metadata": {
    "scrolled": true
   },
   "outputs": [
    {
     "data": {
      "text/plain": [
       "['452,244 -> 452,303',\n",
       " '958,109 -> 958,639',\n",
       " '809,31 -> 778,31',\n",
       " '927,139 -> 917,139',\n",
       " '56,298 -> 273,298']"
      ]
     },
     "execution_count": 24,
     "metadata": {},
     "output_type": "execute_result"
    }
   ],
   "source": [
    "'''\n",
    "Part 1:\n",
    "Each line of vents is given as a line segment in the format x1,y1 -> x2,y2 \n",
    "where x1,y1 are the coordinates of one end the line segment and x2,y2 \n",
    "are the coordinates of the other end. \n",
    "These line segments include the points at both ends.\n",
    "\n",
    "Consider only horizontal and vertical lines. \n",
    "At how many points do at least two lines overlap?\n",
    "'''\n",
    "\n",
    "import re\n",
    "\n",
    "f = open('./input_files/day5_input.txt', 'r')\n",
    "file = f.read().splitlines()\n",
    "file[:5]"
   ]
  },
  {
   "cell_type": "code",
   "execution_count": 25,
   "metadata": {},
   "outputs": [],
   "source": [
    "def row_to_freq():\n",
    "    if x1 == x2:\n",
    "        if y1<y2:\n",
    "            for i in range(y1, y2+1):\n",
    "                if (str(x1)+ ',' +str(i)) not in freq_dict:\n",
    "                    freq_dict[str(x1)+ ',' +str(i)] = 1\n",
    "                else:\n",
    "                    freq_dict[str(x1)+ ',' +str(i)] +=1\n",
    "        else:\n",
    "            for i in range(y2, y1+1):\n",
    "                if (str(x1)+ ',' +str(i)) not in freq_dict:\n",
    "                    freq_dict[str(x1)+ ',' +str(i)] = 1\n",
    "                else:\n",
    "                    freq_dict[str(x1)+ ',' +str(i)] +=1\n",
    "    elif y1 == y2:\n",
    "        if x1<x2:\n",
    "            for i in range(x1, x2+1):\n",
    "                if (str(i)+ ',' +str(y1)) not in freq_dict:\n",
    "                    freq_dict[str(i)+ ',' +str(y1)] = 1\n",
    "                else:\n",
    "                    freq_dict[str(i)+ ',' +str(y1)] +=1\n",
    "        else:\n",
    "            for i in range(x2, x1+1):\n",
    "                if (str(i)+ ',' +str(y1)) not in freq_dict:\n",
    "                    freq_dict[str(i)+ ',' +str(y1)] = 1\n",
    "                else:\n",
    "                    freq_dict[str(i)+ ',' +str(y1)] +=1\n",
    "    return freq_dict"
   ]
  },
  {
   "cell_type": "code",
   "execution_count": 26,
   "metadata": {},
   "outputs": [
    {
     "data": {
      "text/plain": [
       "5774"
      ]
     },
     "execution_count": 26,
     "metadata": {},
     "output_type": "execute_result"
    }
   ],
   "source": [
    "freq_dict = {}\n",
    "\n",
    "\n",
    "for row in file:\n",
    "    x1, y1, x2, y2 = map(int, re.split(',| -> ', row))\n",
    "    row_to_freq()\n",
    "    \n",
    "freq_values_list = list(freq_dict.values())\n",
    "\n",
    "counter = 0\n",
    "for item in freq_values_list:\n",
    "    if item >1:\n",
    "        counter +=1\n",
    "        \n",
    "counter"
   ]
  },
  {
   "cell_type": "code",
   "execution_count": null,
   "metadata": {},
   "outputs": [],
   "source": []
  }
 ],
 "metadata": {
  "kernelspec": {
   "display_name": "Python 3",
   "language": "python",
   "name": "python3"
  },
  "language_info": {
   "codemirror_mode": {
    "name": "ipython",
    "version": 3
   },
   "file_extension": ".py",
   "mimetype": "text/x-python",
   "name": "python",
   "nbconvert_exporter": "python",
   "pygments_lexer": "ipython3",
   "version": "3.7.3"
  }
 },
 "nbformat": 4,
 "nbformat_minor": 2
}
