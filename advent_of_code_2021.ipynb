{
 "cells": [
  {
   "cell_type": "markdown",
   "metadata": {},
   "source": [
    "### Day 1: Sonar Sweep"
   ]
  },
  {
   "cell_type": "code",
   "execution_count": 1,
   "metadata": {},
   "outputs": [
    {
     "data": {
      "text/plain": [
       "['131', '140', '136', '135', '155', '175', '178', '186', '187', '189']"
      ]
     },
     "execution_count": 1,
     "metadata": {},
     "output_type": "execute_result"
    }
   ],
   "source": [
    "'''Part 1: The goal of this challenge is to determine the number of times a depth measurement increases'''\n",
    "f = open('day1input.txt', 'r')\n",
    "file = f.read()\n",
    "file = file.splitlines()\n",
    "file[:10]"
   ]
  },
  {
   "cell_type": "code",
   "execution_count": 2,
   "metadata": {},
   "outputs": [],
   "source": [
    "def num_depth_increase(input_list):\n",
    "    counter = 0\n",
    "    for i in range(len(input_list)-1):\n",
    "        if int(input_list[i+1]) > int(input_list[i]):\n",
    "            counter+=1\n",
    "    return counter"
   ]
  },
  {
   "cell_type": "code",
   "execution_count": 3,
   "metadata": {},
   "outputs": [
    {
     "data": {
      "text/plain": [
       "1466"
      ]
     },
     "execution_count": 3,
     "metadata": {},
     "output_type": "execute_result"
    }
   ],
   "source": [
    "num_depth_increase(file)"
   ]
  },
  {
   "cell_type": "code",
   "execution_count": 5,
   "metadata": {},
   "outputs": [],
   "source": [
    "'''Part 2: Determine the number of times a depth measure increases based on a three-measurement window'''\n",
    "\n",
    "def num_depth_3window_increase(input_list):\n",
    "    counter = 0\n",
    "    for i in range(len(input_list)-3):\n",
    "        first = int(input_list[i]) + int(input_list[i+1]) + int(input_list[i+2])\n",
    "        second = int(input_list[i+1]) + int(input_list[i+2]) + int(input_list[i+3])\n",
    "        if second > first:\n",
    "            counter +=1\n",
    "    return counter                     "
   ]
  },
  {
   "cell_type": "code",
   "execution_count": 6,
   "metadata": {},
   "outputs": [
    {
     "data": {
      "text/plain": [
       "1491"
      ]
     },
     "execution_count": 6,
     "metadata": {},
     "output_type": "execute_result"
    }
   ],
   "source": [
    "num_depth_3window_increase(file)"
   ]
  }
 ],
 "metadata": {
  "kernelspec": {
   "display_name": "Python 3",
   "language": "python",
   "name": "python3"
  },
  "language_info": {
   "codemirror_mode": {
    "name": "ipython",
    "version": 3
   },
   "file_extension": ".py",
   "mimetype": "text/x-python",
   "name": "python",
   "nbconvert_exporter": "python",
   "pygments_lexer": "ipython3",
   "version": "3.7.3"
  }
 },
 "nbformat": 4,
 "nbformat_minor": 2
}
