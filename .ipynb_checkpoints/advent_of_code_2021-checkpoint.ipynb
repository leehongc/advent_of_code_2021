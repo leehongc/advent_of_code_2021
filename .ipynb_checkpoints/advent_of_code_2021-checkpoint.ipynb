{
 "cells": [
  {
   "cell_type": "markdown",
   "metadata": {},
   "source": [
    "### Day 1: Sonar Sweep"
   ]
  },
  {
   "cell_type": "code",
   "execution_count": 1,
   "metadata": {},
   "outputs": [
    {
     "data": {
      "text/plain": [
       "['131', '140', '136', '135', '155', '175', '178', '186', '187', '189']"
      ]
     },
     "execution_count": 1,
     "metadata": {},
     "output_type": "execute_result"
    }
   ],
   "source": [
    "'''Part 1: The goal of this challenge is to determine the number of times a depth measurement increases'''\n",
    "\n",
    "f = open('./input_files/day1_input.txt', 'r')\n",
    "file = f.read().splitlines()\n",
    "file = file\n",
    "file[:10]"
   ]
  },
  {
   "cell_type": "code",
   "execution_count": 2,
   "metadata": {},
   "outputs": [],
   "source": [
    "def num_depth_increase(input_list):\n",
    "    counter = 0\n",
    "    for i in range(len(input_list)-1):\n",
    "        if int(input_list[i+1]) > int(input_list[i]):\n",
    "            counter+=1\n",
    "    return counter"
   ]
  },
  {
   "cell_type": "code",
   "execution_count": 3,
   "metadata": {},
   "outputs": [
    {
     "data": {
      "text/plain": [
       "1466"
      ]
     },
     "execution_count": 3,
     "metadata": {},
     "output_type": "execute_result"
    }
   ],
   "source": [
    "num_depth_increase(file)"
   ]
  },
  {
   "cell_type": "code",
   "execution_count": 4,
   "metadata": {},
   "outputs": [],
   "source": [
    "'''Part 2: Determine the number of times a depth measure increases based on a three-measurement window'''\n",
    "\n",
    "def num_depth_3window_increase(input_list):\n",
    "    counter = 0\n",
    "    for i in range(len(input_list)-3):\n",
    "        first = int(input_list[i]) + int(input_list[i+1]) + int(input_list[i+2])\n",
    "        second = int(input_list[i+1]) + int(input_list[i+2]) + int(input_list[i+3])\n",
    "        if second > first:\n",
    "            counter += 1\n",
    "    return counter                     "
   ]
  },
  {
   "cell_type": "code",
   "execution_count": 5,
   "metadata": {},
   "outputs": [
    {
     "data": {
      "text/plain": [
       "1491"
      ]
     },
     "execution_count": 5,
     "metadata": {},
     "output_type": "execute_result"
    }
   ],
   "source": [
    "num_depth_3window_increase(file)"
   ]
  },
  {
   "cell_type": "markdown",
   "metadata": {},
   "source": [
    "### Day 2: Dive"
   ]
  },
  {
   "cell_type": "code",
   "execution_count": 6,
   "metadata": {},
   "outputs": [
    {
     "data": {
      "text/plain": [
       "['forward 9', 'down 8', 'down 2', 'down 4', 'up 8']"
      ]
     },
     "execution_count": 6,
     "metadata": {},
     "output_type": "execute_result"
    }
   ],
   "source": [
    "'''\n",
    "Part 1:\n",
    "forward X increases the horizontal position by X units.\n",
    "down X increases the depth by X units.\n",
    "up X decreases the depth by X units.\n",
    "\n",
    "Calculate the final horizontal position multiplied by the final depth\n",
    "'''\n",
    "\n",
    "f = open('./input_files/day2_input.txt', 'r')\n",
    "day2file = f.read().splitlines()\n",
    "day2file[:5]"
   ]
  },
  {
   "cell_type": "code",
   "execution_count": 7,
   "metadata": {},
   "outputs": [
    {
     "data": {
      "text/plain": [
       "2091984"
      ]
     },
     "execution_count": 7,
     "metadata": {},
     "output_type": "execute_result"
    }
   ],
   "source": [
    "def final_position(input_list):\n",
    "    x = 0\n",
    "    z = 0\n",
    "    for i in input_list:\n",
    "        direction, value = i.split(' ')\n",
    "        value = int(value)\n",
    "        if direction == 'forward':\n",
    "            x += value\n",
    "        elif direction == 'down':\n",
    "            z += value\n",
    "        else:\n",
    "            z -= value\n",
    "    return x*z\n",
    "\n",
    "final_position(day2file)"
   ]
  },
  {
   "cell_type": "code",
   "execution_count": 8,
   "metadata": {},
   "outputs": [],
   "source": [
    "'''\n",
    "Part 2: Need to track a new unit \"aim\".\n",
    "\n",
    "down X increases your aim by X units.\n",
    "up X decreases your aim by X units.\n",
    "forward X does two things:\n",
    "It increases your horizontal position by X units.\n",
    "It increases your depth by your aim multiplied by X.\n",
    "'''\n",
    "\n",
    "testinput = [\n",
    "'forward 5',\n",
    "'down 5',\n",
    "'forward 8',\n",
    "'up 3',\n",
    "'down 8',\n",
    "'forward 2'\n",
    "]"
   ]
  },
  {
   "cell_type": "code",
   "execution_count": 9,
   "metadata": {},
   "outputs": [],
   "source": [
    "def final_position_with_aim(input_list):\n",
    "    x = 0\n",
    "    z = 0\n",
    "    a = 0\n",
    "    for i in input_list:\n",
    "        direction, value = i.split(' ')\n",
    "        value = int(value)\n",
    "        if direction == 'forward':\n",
    "            x += value\n",
    "            z += a*value\n",
    "        elif direction == 'down':\n",
    "            a += value\n",
    "        else:\n",
    "            a -= value\n",
    "\n",
    "\n",
    "    return x * z\n"
   ]
  },
  {
   "cell_type": "code",
   "execution_count": 10,
   "metadata": {},
   "outputs": [
    {
     "data": {
      "text/plain": [
       "2086261056"
      ]
     },
     "execution_count": 10,
     "metadata": {},
     "output_type": "execute_result"
    }
   ],
   "source": [
    "final_position_with_aim(day2file)"
   ]
  },
  {
   "cell_type": "markdown",
   "metadata": {},
   "source": [
    "### Day 3: Binary Diagnostic"
   ]
  },
  {
   "cell_type": "code",
   "execution_count": 11,
   "metadata": {},
   "outputs": [
    {
     "data": {
      "text/plain": [
       "['011000110010',\n",
       " '111011101000',\n",
       " '110100110010',\n",
       " '011010101110',\n",
       " '111010100100']"
      ]
     },
     "execution_count": 11,
     "metadata": {},
     "output_type": "execute_result"
    }
   ],
   "source": [
    "'''\n",
    "Part 1:\n",
    "Each bit in the gamma rate can be determined by finding the most \n",
    "common bit in the corresponding position of all numbers in the diagnostic report.\n",
    "\n",
    "The epsilon rate is calculated in a similar way; rather than use the most common bit,\n",
    "the least common bit from each position is used.\n",
    "\n",
    "Use the binary numbers in your diagnostic report to calculate the gamma rate and epsilon rate,\n",
    "then multiply them together.\n",
    "'''\n",
    "\n",
    "f = open('./input_files/day3_input.txt', 'r')\n",
    "file = f.read().splitlines()\n",
    "\n",
    "testinput = [\n",
    "'00100',\n",
    "'11110',\n",
    "'10110',\n",
    "'10111',\n",
    "'10101',\n",
    "'01111',\n",
    "'00111',\n",
    "'11100',\n",
    "'10000',\n",
    "'11001',\n",
    "'00010',\n",
    "'01010'\n",
    "]\n",
    "\n",
    "file[:5]"
   ]
  },
  {
   "cell_type": "code",
   "execution_count": 12,
   "metadata": {},
   "outputs": [
    {
     "data": {
      "text/plain": [
       "3813416"
      ]
     },
     "execution_count": 12,
     "metadata": {},
     "output_type": "execute_result"
    }
   ],
   "source": [
    "def gamma_rate(i, input_list):\n",
    "    zero = 0\n",
    "    one = 0\n",
    "    for item in input_list:\n",
    "        if item[i] == '0':\n",
    "            zero+=1\n",
    "        else:\n",
    "            one+=1\n",
    "    if zero > one:\n",
    "        return '0'\n",
    "    else:\n",
    "        return '1'\n",
    "    \n",
    "    \n",
    "def epsilon_rate(i, input_list):\n",
    "    zero = 0\n",
    "    one = 0\n",
    "    for item in input_list:\n",
    "        if item[i] == '0':\n",
    "            zero+=1\n",
    "        else:\n",
    "            one+=1\n",
    "    if zero > one:\n",
    "        return '1'\n",
    "    else:\n",
    "        return '0'\n",
    "    \n",
    "\n",
    "def binary_to_decimal(binary):\n",
    "    i = len(binary)-1\n",
    "    dec = 0\n",
    "    while i >= 0:\n",
    "        dec += int(binary[i])* 2**abs(i-(len(binary)-1))\n",
    "        i-=1\n",
    "    return dec\n",
    "\n",
    "\n",
    "def rate_to_decimal(input_list, rate_type):\n",
    "    rate = ''\n",
    "    for i in range(len(input_list[0])):\n",
    "        if rate_type == 'gamma':\n",
    "            rate+=(gamma_rate(i, input_list))\n",
    "        else:\n",
    "            rate+=(epsilon_rate(i, input_list))\n",
    "    return binary_to_decimal(rate)\n",
    "        \n",
    "\n",
    "def final_solution(input_file):\n",
    "    gamma = rate_to_decimal(input_file, 'gamma')\n",
    "    epsilon = rate_to_decimal(input_file, 'epsilon')\n",
    "    return gamma*epsilon\n",
    "\n",
    "final_solution(file)"
   ]
  },
  {
   "cell_type": "code",
   "execution_count": 13,
   "metadata": {},
   "outputs": [],
   "source": [
    "'''\n",
    "Part 2:\n",
    "The bit criteria depends on which type of rating value you want to find:\n",
    "\n",
    "Keep only numbers from this below bit criteria:\n",
    "\n",
    "To find oxygen generator rating, determine the most common value (0 or 1) \n",
    "in the current bit position, and keep only numbers with that bit in that position.\n",
    "If 0 and 1 are equally common, keep values with a 1 in the position being considered.\n",
    "To find CO2 scrubber rating, determine the least common value (0 or 1) in the current\n",
    "bit position, and keep only numbers with that bit in that position. If 0 and 1 are equally common,\n",
    "keep values with a 0 in the position being considered.\n",
    "'''\n",
    "\n",
    "f = open('./input_files/day3_input.txt', 'r')\n",
    "file = f.read().splitlines()"
   ]
  },
  {
   "cell_type": "code",
   "execution_count": 14,
   "metadata": {},
   "outputs": [],
   "source": [
    "def gamma_bit(input_list):\n",
    "    i = 0\n",
    "    while i < len(input_list[0]) and len(input_list)>1:\n",
    "        temp_list = []\n",
    "        for item in input_list:\n",
    "            if item[i] == gamma_rate(i, input_list):\n",
    "                temp_list.append(item)\n",
    "        input_list = temp_list\n",
    "        i+=1\n",
    "    return binary_to_decimal(input_list[0])\n",
    "\n",
    "\n",
    "\n",
    "\n",
    "def epsilon_bit(input_list):\n",
    "    i = 0\n",
    "    while i < len(input_list[0]) and len(input_list)>1:\n",
    "        temp_list = []\n",
    "        for item in input_list:\n",
    "            if item[i] == epsilon_rate(i, input_list):\n",
    "                temp_list.append(item)\n",
    "        input_list = temp_list\n",
    "        i+=1\n",
    "    return binary_to_decimal(input_list[0])\n",
    "\n",
    "\n",
    "\n"
   ]
  },
  {
   "cell_type": "code",
   "execution_count": 15,
   "metadata": {},
   "outputs": [
    {
     "data": {
      "text/plain": [
       "2990784"
      ]
     },
     "execution_count": 15,
     "metadata": {},
     "output_type": "execute_result"
    }
   ],
   "source": [
    "gamma_bit(file)*epsilon_bit(file)\n"
   ]
  },
  {
   "cell_type": "markdown",
   "metadata": {},
   "source": [
    "### Day 4: Giant Squid"
   ]
  },
  {
   "cell_type": "code",
   "execution_count": 16,
   "metadata": {},
   "outputs": [],
   "source": [
    "'''\n",
    "Part 1:\n",
    "The score of the winning board can now be calculated. \n",
    "Start by finding the sum of all unmarked numbers on that board;\n",
    "Then, multiply that sum by the \n",
    "number that was just called when the board won, to get the final score.\n",
    "\n",
    "To guarantee victory against the giant squid, figure out \n",
    "which board will win first. What will your final score be if you choose that board?\n",
    "'''\n",
    "\n",
    "f = open('./input_files/day4_input.txt', 'r')\n",
    "file = f.read().splitlines()\n",
    "\n",
    "draw_numbers = file[0].split(',')\n",
    "boards = [x for x in file[1:] if len(x)>1]\n",
    "\n",
    "\n",
    "# Separating the boards into individual boards\n",
    "b = boards.copy()\n",
    "sep_boards = []\n",
    "while len(b)>0:\n",
    "    temp = []\n",
    "    for i in range(5):\n",
    "        line = b.pop(0)\n",
    "        line = line.split()\n",
    "        temp.append(line)\n",
    "    sep_boards.append(temp)"
   ]
  },
  {
   "cell_type": "code",
   "execution_count": 17,
   "metadata": {},
   "outputs": [],
   "source": [
    "def check_vertical_match(board, col_num):\n",
    "    # This function checks for any vertical matches based on the input column number\n",
    "    \n",
    "    count = 0\n",
    "    for rows in board:\n",
    "        if rows[col_num] == '':\n",
    "            count+=1\n",
    "    if count == 5:\n",
    "        return True\n",
    "    else:\n",
    "        return False\n"
   ]
  },
  {
   "cell_type": "code",
   "execution_count": 18,
   "metadata": {},
   "outputs": [],
   "source": [
    "def check_horizontal_match(board, row_num):\n",
    "    # This function checks for horizontal matches based on the input row number\n",
    "    \n",
    "    count = 0\n",
    "    for item in board[row_num]:\n",
    "        if item == '':\n",
    "            count+=1\n",
    "    if count == 5:\n",
    "        return True\n",
    "    else:\n",
    "        return False\n",
    "    "
   ]
  },
  {
   "cell_type": "code",
   "execution_count": 19,
   "metadata": {},
   "outputs": [],
   "source": [
    "# def check_diagonal_match(board):\n",
    "#     # This function checks for diagonal matches\n",
    "    \n",
    "#     count = 0\n",
    "#     for i, j in enumerate(range(5)):\n",
    "#         if board[i][j] == '':\n",
    "#             count +=1\n",
    "#     if count == 5:\n",
    "#          return True\n",
    "#     count = 0\n",
    "#     for i, j in zip(range(5), range(4, -1, -1)):\n",
    "#         if board[i][j] == '':\n",
    "#             count +=1\n",
    "#     if count == 5:\n",
    "#         return True\n",
    "#     else:\n",
    "#         return False"
   ]
  },
  {
   "cell_type": "code",
   "execution_count": 20,
   "metadata": {},
   "outputs": [],
   "source": [
    "def check_bingo(board):\n",
    "    for i in range(5):\n",
    "        if check_vertical_match(board, i) == True or check_horizontal_match(board, i) == True:\n",
    "            return True\n",
    "        \n",
    "#     if check_diagonal_match(board) == True:\n",
    "#         return True\n",
    "    else:\n",
    "        return False"
   ]
  },
  {
   "cell_type": "code",
   "execution_count": 21,
   "metadata": {},
   "outputs": [],
   "source": [
    "def board_sum(board):\n",
    "    total =0\n",
    "    for row in board:\n",
    "        for item in row:\n",
    "            if len(item)>0:\n",
    "                total += int(item)\n",
    "    return total"
   ]
  },
  {
   "cell_type": "code",
   "execution_count": 22,
   "metadata": {},
   "outputs": [
    {
     "data": {
      "text/plain": [
       "6592"
      ]
     },
     "execution_count": 22,
     "metadata": {},
     "output_type": "execute_result"
    }
   ],
   "source": [
    "def drawing(number):\n",
    "    for b in range(len(sep_boards)):\n",
    "        for i in range(5):\n",
    "            for j in range(5):\n",
    "                if sep_boards[b][i][j] == number:\n",
    "                    sep_boards[b][i][j] = ''\n",
    "\n",
    "def solution():\n",
    "    for i in range(len(draw_numbers)):\n",
    "        drawing(draw_numbers[i])\n",
    "        for board in sep_boards:\n",
    "            if check_bingo(board) == True:\n",
    "                return (board_sum(board)*int(draw_numbers[i]))\n",
    "             \n",
    "solution()"
   ]
  },
  {
   "cell_type": "code",
   "execution_count": 23,
   "metadata": {
    "scrolled": false
   },
   "outputs": [
    {
     "data": {
      "text/plain": [
       "31755"
      ]
     },
     "execution_count": 23,
     "metadata": {},
     "output_type": "execute_result"
    }
   ],
   "source": [
    "'''\n",
    "Part 2:\n",
    "Figure out which board will win last. Once it wins, what would its final score be?\n",
    "'''\n",
    "\n",
    "f = open('./input_files/day4_input.txt', 'r')\n",
    "file = f.read().splitlines()\n",
    "\n",
    "draw_numbers = file[0].split(',')\n",
    "boards = [x for x in file[1:] if len(x)>1]\n",
    "\n",
    "\n",
    "# Separating the boards into individual boards\n",
    "b = boards.copy()\n",
    "sep_boards = []\n",
    "while len(b)>0:\n",
    "    temp = []\n",
    "    for i in range(5):\n",
    "        line = b.pop(0)\n",
    "        line = line.split()\n",
    "        temp.append(line)\n",
    "    sep_boards.append(temp)\n",
    "    \n",
    "    \n",
    "def drawing(number):\n",
    "    for b in range(len(sep_boards)):\n",
    "        for i in range(5):\n",
    "            for j in range(5):\n",
    "                if sep_boards[b][i][j] == number:\n",
    "                    sep_boards[b][i][j] = ''\n",
    "\n",
    "def solution():\n",
    "    winning_list = []\n",
    "    for i in range(len(draw_numbers)):\n",
    "        drawing(draw_numbers[i])\n",
    "        for board in sep_boards:\n",
    "            if check_bingo(board) == True:\n",
    "                winning_list.append(board_sum(board)*int(draw_numbers[i]))\n",
    "                sep_boards.remove(board)\n",
    "                    \n",
    "    return winning_list\n",
    "\n",
    "solution()[-1]"
   ]
  },
  {
   "cell_type": "markdown",
   "metadata": {},
   "source": [
    "### Day 5: Hydrothermal Venture"
   ]
  },
  {
   "cell_type": "code",
   "execution_count": 24,
   "metadata": {
    "scrolled": true
   },
   "outputs": [
    {
     "data": {
      "text/plain": [
       "['452,244 -> 452,303',\n",
       " '958,109 -> 958,639',\n",
       " '809,31 -> 778,31',\n",
       " '927,139 -> 917,139',\n",
       " '56,298 -> 273,298']"
      ]
     },
     "execution_count": 24,
     "metadata": {},
     "output_type": "execute_result"
    }
   ],
   "source": [
    "'''\n",
    "Part 1:\n",
    "Each line of vents is given as a line segment in the format x1,y1 -> x2,y2 \n",
    "where x1,y1 are the coordinates of one end the line segment and x2,y2 \n",
    "are the coordinates of the other end. \n",
    "These line segments include the points at both ends.\n",
    "\n",
    "Consider only horizontal and vertical lines. \n",
    "At how many points do at least two lines overlap?\n",
    "'''\n",
    "\n",
    "import re\n",
    "\n",
    "f = open('./input_files/day5_input.txt', 'r')\n",
    "file = f.read().splitlines()\n",
    "file[:5]"
   ]
  },
  {
   "cell_type": "code",
   "execution_count": 25,
   "metadata": {},
   "outputs": [],
   "source": [
    "def row_to_freq(x1, y1, x2, y2, freq_dict):\n",
    "    if x1 == x2:\n",
    "        if y1>y2:\n",
    "            y1, y2 = y2, y1\n",
    "        for i in range(y1, y2+1):\n",
    "            if (str(x1)+ ',' +str(i)) not in freq_dict:\n",
    "                freq_dict[str(x1)+ ',' +str(i)] = 1\n",
    "            else:\n",
    "                freq_dict[str(x1)+ ',' +str(i)] +=1\n",
    "                \n",
    "    elif y1 == y2:\n",
    "        if x1>x2:\n",
    "            x1, x2 = x2, x1\n",
    "        for i in range(x1, x2+1):\n",
    "            if (str(i)+ ',' +str(y1)) not in freq_dict:\n",
    "                freq_dict[str(i)+ ',' +str(y1)] = 1\n",
    "            else:\n",
    "                freq_dict[str(i)+ ',' +str(y1)] +=1\n",
    "    \n",
    "    return freq_dict"
   ]
  },
  {
   "cell_type": "code",
   "execution_count": 26,
   "metadata": {},
   "outputs": [
    {
     "data": {
      "text/plain": [
       "5774"
      ]
     },
     "execution_count": 26,
     "metadata": {},
     "output_type": "execute_result"
    }
   ],
   "source": [
    "freq_dict = {}\n",
    "\n",
    "for row in file:\n",
    "    x1, y1, x2, y2 = map(int, re.split(',| -> ', row))\n",
    "    freq_dict = row_to_freq(x1, y1, x2, y2, freq_dict)\n",
    "    \n",
    "freq_values_list = list(freq_dict.values())\n",
    "\n",
    "counter = 0\n",
    "for item in freq_values_list:\n",
    "    if item >1:\n",
    "        counter +=1\n",
    "        \n",
    "counter"
   ]
  },
  {
   "cell_type": "code",
   "execution_count": 27,
   "metadata": {},
   "outputs": [],
   "source": [
    "'''\n",
    "Part 2: incuding diagonals\n",
    "'''\n",
    "\n",
    "def row_to_freq(x1, y1, x2, y2, freq_dict):\n",
    "    if x1 == x2:\n",
    "        if y1>y2:\n",
    "            y1, y2 = y2, y1\n",
    "        for i in range(y1, y2+1):\n",
    "            if (str(x1)+ ',' +str(i)) not in freq_dict:\n",
    "                freq_dict[str(x1)+ ',' +str(i)] = 1\n",
    "            else:\n",
    "                freq_dict[str(x1)+ ',' +str(i)] +=1\n",
    "                \n",
    "    elif y1 == y2:\n",
    "        if x1>x2:\n",
    "            x1, x2 = x2, x1\n",
    "        for i in range(x1, x2+1):\n",
    "            if (str(i)+ ',' +str(y1)) not in freq_dict:\n",
    "                freq_dict[str(i)+ ',' +str(y1)] = 1\n",
    "            else:\n",
    "                freq_dict[str(i)+ ',' +str(y1)] +=1\n",
    "                \n",
    "    else:\n",
    "        if x1 > x2:\n",
    "            x_range = range(x1, x2-1, -1)\n",
    "        else:\n",
    "            x_range = range(x1, x2+1)\n",
    "        if y1 > y2:\n",
    "            y_range = range(y1, y2-1, -1)\n",
    "        else:\n",
    "            y_range = range(y1,y2+1)\n",
    "        for i, j in zip(x_range, y_range):\n",
    "                if (str(i)+ ',' +str(j)) not in freq_dict:\n",
    "                    freq_dict[str(i)+ ',' +str(j)] = 1\n",
    "                else:\n",
    "                    freq_dict[str(i)+ ',' +str(j)] += 1\n",
    "    return freq_dict"
   ]
  },
  {
   "cell_type": "code",
   "execution_count": 28,
   "metadata": {},
   "outputs": [
    {
     "data": {
      "text/plain": [
       "12"
      ]
     },
     "execution_count": 28,
     "metadata": {},
     "output_type": "execute_result"
    }
   ],
   "source": [
    "# Test Case\n",
    "\n",
    "file = ['0,9 -> 5,9',\n",
    "'8,0 -> 0,8',\n",
    "'9,4 -> 3,4',\n",
    "'2,2 -> 2,1',\n",
    "'7,0 -> 7,4',\n",
    "'6,4 -> 2,0',\n",
    "'0,9 -> 2,9',\n",
    "'3,4 -> 1,4',\n",
    "'0,0 -> 8,8',\n",
    "'5,5 -> 8,2']\n",
    "\n",
    "freq_dict = {}\n",
    "\n",
    "for row in file:\n",
    "    x1, y1, x2, y2 = map(int, re.split(',| -> ', row))\n",
    "    freq_dict = row_to_freq(x1, y1, x2, y2, freq_dict)\n",
    "    \n",
    "freq_values_list = list(freq_dict.values())\n",
    "\n",
    "counter = 0\n",
    "for item in freq_values_list:\n",
    "    if item >1:\n",
    "        counter +=1\n",
    "        \n",
    "counter"
   ]
  },
  {
   "cell_type": "code",
   "execution_count": 29,
   "metadata": {},
   "outputs": [
    {
     "data": {
      "text/plain": [
       "18423"
      ]
     },
     "execution_count": 29,
     "metadata": {},
     "output_type": "execute_result"
    }
   ],
   "source": [
    "f = open('./input_files/day5_input.txt', 'r')\n",
    "file = f.read().splitlines()\n",
    "\n",
    "freq_dict = {}\n",
    "\n",
    "for row in file:\n",
    "    x1, y1, x2, y2 = map(int, re.split(',| -> ', row))\n",
    "    freq_dict = row_to_freq(x1, y1, x2, y2, freq_dict)\n",
    "    \n",
    "freq_values_list = list(freq_dict.values())\n",
    "\n",
    "counter = 0\n",
    "for item in freq_values_list:\n",
    "    if item >1:\n",
    "        counter +=1\n",
    "        \n",
    "counter"
   ]
  },
  {
   "cell_type": "markdown",
   "metadata": {},
   "source": [
    "### Day 6: Lanternfish"
   ]
  },
  {
   "cell_type": "code",
   "execution_count": 30,
   "metadata": {},
   "outputs": [
    {
     "data": {
      "text/plain": [
       "[2, 3, 2, 0, 1]"
      ]
     },
     "execution_count": 30,
     "metadata": {},
     "output_type": "execute_result"
    }
   ],
   "source": [
    "f = open('./input_files/day6_input.txt', 'r')\n",
    "file = f.read().strip().split(',')\n",
    "file = [int(x) for x in file]\n",
    "\n",
    "\n",
    "test_case = [3,4,3,1,2]\n",
    "\n",
    "def sim_time(input_list):\n",
    "    for i in range(len(input_list)):\n",
    "        if input_list[i] == 0:\n",
    "            input_list[i] = 6\n",
    "            input_list.append(8)\n",
    "        else:\n",
    "            input_list[i]-=1\n",
    "    return input_list\n",
    "\n",
    "sim_time(test_case)"
   ]
  },
  {
   "cell_type": "code",
   "execution_count": 31,
   "metadata": {},
   "outputs": [
    {
     "data": {
      "text/plain": [
       "5934"
      ]
     },
     "execution_count": 31,
     "metadata": {},
     "output_type": "execute_result"
    }
   ],
   "source": [
    "test_case = [3,4,3,1,2]\n",
    "\n",
    "for i in range(80):\n",
    "    sim_time(test_case)\n",
    "    \n",
    "len(test_case)"
   ]
  },
  {
   "cell_type": "code",
   "execution_count": 32,
   "metadata": {},
   "outputs": [
    {
     "data": {
      "text/plain": [
       "352872"
      ]
     },
     "execution_count": 32,
     "metadata": {},
     "output_type": "execute_result"
    }
   ],
   "source": [
    "f = open('./input_files/day6_input.txt', 'r')\n",
    "file = f.read().strip().split(',')\n",
    "input_list = [int(x) for x in file]\n",
    "\n",
    "\n",
    "for i in range(80):\n",
    "    sim_time(input_list)\n",
    "    \n",
    "len(input_list)"
   ]
  },
  {
   "cell_type": "code",
   "execution_count": 18,
   "metadata": {},
   "outputs": [],
   "source": [
    "'''\n",
    "Part 2: How many lanternfish would there be after 256 days? \n",
    "'''\n",
    "\n",
    "f = open('./input_files/day6_input.txt', 'r')\n",
    "file = f.read().strip().split(',')\n",
    "input_list = [int(x) for x in file]"
   ]
  },
  {
   "cell_type": "code",
   "execution_count": 19,
   "metadata": {},
   "outputs": [
    {
     "data": {
      "text/plain": [
       "1604361182149"
      ]
     },
     "execution_count": 19,
     "metadata": {},
     "output_type": "execute_result"
    }
   ],
   "source": [
    "test_case = [3,4,3,1,2]\n",
    "\n",
    "fish_dict = {}\n",
    "for i in range(9):\n",
    "        fish_dict[i] = 0\n",
    "        \n",
    "def fish_generation_sim(input_list, fish_dict, days):\n",
    "    \n",
    "    for item in input_list:\n",
    "        if item in fish_dict:\n",
    "            fish_dict[item] += 1\n",
    "        else:\n",
    "            fish_dict[item] = 1\n",
    "\n",
    "    for day in range(days):\n",
    "        zeroes = fish_dict[0]\n",
    "        fish_dict[0] = 0\n",
    "        for i in range(1, len(fish_dict)):\n",
    "            fish_dict[i-1] += fish_dict[i]\n",
    "            fish_dict[i] = 0\n",
    "        fish_dict[6] += zeroes\n",
    "        fish_dict[8] += zeroes\n",
    "    return fish_dict\n",
    "\n",
    "\n",
    "def fish_count(fish_dict):\n",
    "    fish_count = 0\n",
    "    for value in fish_dict.values():\n",
    "        fish_count += value\n",
    "    return fish_count\n",
    "        \n",
    "eighty_days_dict = fish_generation_sim(input_list, fish_dict, 256)\n",
    "fish_count(eighty_days_dict)"
   ]
  },
  {
   "cell_type": "markdown",
   "metadata": {},
   "source": [
    "### Day 7: The Treachery of Whales"
   ]
  },
  {
   "cell_type": "code",
   "execution_count": 168,
   "metadata": {},
   "outputs": [
    {
     "data": {
      "text/plain": [
       "[1101, 1, 29, 67, 1102]"
      ]
     },
     "execution_count": 168,
     "metadata": {},
     "output_type": "execute_result"
    }
   ],
   "source": [
    "'''\n",
    "Part 1:\n",
    "Determine the item in the input list that \n",
    "would require the other items to move the least amount to align with it.\n",
    "Next calculate the total fuel cost (difference between each item and the determined item)\n",
    "\n",
    "Move from 16 to 2: 14 fuel\n",
    "Move from 1 to 2: 1 fuel\n",
    "Move from 2 to 2: 0 fuel\n",
    "Move from 0 to 2: 2 fuel\n",
    "Move from 4 to 2: 2 fuel\n",
    "Move from 2 to 2: 0 fuel\n",
    "Move from 7 to 2: 5 fuel\n",
    "Move from 1 to 2: 1 fuel\n",
    "Move from 2 to 2: 0 fuel\n",
    "Move from 14 to 2: 12 fuel\n",
    "\n",
    "'''\n",
    "f = open('./input_files/day7_input.txt', 'r')\n",
    "file = f.read().strip().split(',')\n",
    "input_list = [int(x) for x in file]\n",
    "\n",
    "input_list[:5]"
   ]
  },
  {
   "cell_type": "code",
   "execution_count": 169,
   "metadata": {},
   "outputs": [],
   "source": [
    "def fuel_calc(input_list):\n",
    "    input_list.sort()\n",
    "    median = input_list[len(input_list)//2]\n",
    "\n",
    "    fuel_count = 0\n",
    "    for item in input_list:\n",
    "        fuel_count += abs(median-item)\n",
    "\n",
    "    return fuel_count"
   ]
  },
  {
   "cell_type": "code",
   "execution_count": 161,
   "metadata": {},
   "outputs": [
    {
     "data": {
      "text/plain": [
       "352254"
      ]
     },
     "execution_count": 161,
     "metadata": {},
     "output_type": "execute_result"
    }
   ],
   "source": [
    "fuel_calc(input_list)"
   ]
  },
  {
   "cell_type": "code",
   "execution_count": 104,
   "metadata": {},
   "outputs": [],
   "source": [
    "'''\n",
    "Part 2:\n",
    "\n",
    "Move from 16 to 5: 66 fuel\n",
    "Move from 1 to 5: 10 fuel\n",
    "Move from 2 to 5: 6 fuel\n",
    "Move from 0 to 5: 15 fuel\n",
    "Move from 4 to 5: 1 fuel\n",
    "Move from 2 to 5: 6 fuel\n",
    "Move from 7 to 5: 3 fuel\n",
    "Move from 1 to 5: 10 fuel\n",
    "Move from 2 to 5: 6 fuel\n",
    "Move from 14 to 5: 45 fuel\n",
    "'''\n",
    "\n",
    "test_input = [16,1,2,0,4,2,7,1,2,14]\n",
    "mean = round(sum(test_input)/len(test_input))"
   ]
  },
  {
   "cell_type": "code",
   "execution_count": 170,
   "metadata": {},
   "outputs": [
    {
     "data": {
      "text/plain": [
       "15"
      ]
     },
     "execution_count": 170,
     "metadata": {},
     "output_type": "execute_result"
    }
   ],
   "source": [
    "'''\n",
    "step 1 = 1\n",
    "step 2 = 1+2 = 3\n",
    "step 3 = 1+2+3 = 6\n",
    "step 4 = 1+2+3+4 = 10\n",
    "step 5 = 1+2+3+4+5 = 15\n",
    "'''\n",
    "\n",
    "def calc(n):\n",
    "    if n==0:\n",
    "        return 0\n",
    "    elif n==1:\n",
    "        return 1\n",
    "    else:\n",
    "        return n + calc(n-1)\n",
    "    \n",
    "calc(5)"
   ]
  },
  {
   "cell_type": "code",
   "execution_count": 164,
   "metadata": {},
   "outputs": [],
   "source": [
    "def new_fuel_calc(input_list):\n",
    "    mean = round(sum(input_list)/len(input_list))\n",
    "    \n",
    "    new_fuel_count = 0\n",
    "    for item in input_list:\n",
    "        new_fuel_count += calc(abs(item-mean))\n",
    "\n",
    "    return new_fuel_count"
   ]
  },
  {
   "cell_type": "code",
   "execution_count": 167,
   "metadata": {},
   "outputs": [
    {
     "data": {
      "text/plain": [
       "99053183"
      ]
     },
     "execution_count": 167,
     "metadata": {},
     "output_type": "execute_result"
    }
   ],
   "source": [
    "new_fuel_calc(input_list)"
   ]
  },
  {
   "cell_type": "code",
   "execution_count": null,
   "metadata": {},
   "outputs": [],
   "source": []
  }
 ],
 "metadata": {
  "kernelspec": {
   "display_name": "Python 3",
   "language": "python",
   "name": "python3"
  },
  "language_info": {
   "codemirror_mode": {
    "name": "ipython",
    "version": 3
   },
   "file_extension": ".py",
   "mimetype": "text/x-python",
   "name": "python",
   "nbconvert_exporter": "python",
   "pygments_lexer": "ipython3",
   "version": "3.7.3"
  }
 },
 "nbformat": 4,
 "nbformat_minor": 2
}
