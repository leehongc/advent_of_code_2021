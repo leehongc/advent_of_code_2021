{
 "cells": [
  {
   "cell_type": "markdown",
   "metadata": {},
   "source": [
    "### Day 1: Sonar Sweep"
   ]
  },
  {
   "cell_type": "code",
   "execution_count": 1,
   "metadata": {},
   "outputs": [
    {
     "data": {
      "text/plain": [
       "['131', '140', '136', '135', '155', '175', '178', '186', '187', '189']"
      ]
     },
     "execution_count": 1,
     "metadata": {},
     "output_type": "execute_result"
    }
   ],
   "source": [
    "'''Part 1: The goal of this challenge is to determine the number of times a depth measurement increases'''\n",
    "f = open('day1input.txt', 'r')\n",
    "file = f.read().splitlines()\n",
    "file = file\n",
    "file[:10]"
   ]
  },
  {
   "cell_type": "code",
   "execution_count": 2,
   "metadata": {},
   "outputs": [],
   "source": [
    "def num_depth_increase(input_list):\n",
    "    counter = 0\n",
    "    for i in range(len(input_list)-1):\n",
    "        if int(input_list[i+1]) > int(input_list[i]):\n",
    "            counter+=1\n",
    "    return counter"
   ]
  },
  {
   "cell_type": "code",
   "execution_count": 3,
   "metadata": {},
   "outputs": [
    {
     "data": {
      "text/plain": [
       "1466"
      ]
     },
     "execution_count": 3,
     "metadata": {},
     "output_type": "execute_result"
    }
   ],
   "source": [
    "num_depth_increase(file)"
   ]
  },
  {
   "cell_type": "code",
   "execution_count": 4,
   "metadata": {},
   "outputs": [],
   "source": [
    "'''Part 2: Determine the number of times a depth measure increases based on a three-measurement window'''\n",
    "\n",
    "def num_depth_3window_increase(input_list):\n",
    "    counter = 0\n",
    "    for i in range(len(input_list)-3):\n",
    "        first = int(input_list[i]) + int(input_list[i+1]) + int(input_list[i+2])\n",
    "        second = int(input_list[i+1]) + int(input_list[i+2]) + int(input_list[i+3])\n",
    "        if second > first:\n",
    "            counter += 1\n",
    "    return counter                     "
   ]
  },
  {
   "cell_type": "code",
   "execution_count": 5,
   "metadata": {},
   "outputs": [
    {
     "data": {
      "text/plain": [
       "1491"
      ]
     },
     "execution_count": 5,
     "metadata": {},
     "output_type": "execute_result"
    }
   ],
   "source": [
    "num_depth_3window_increase(file)"
   ]
  },
  {
   "cell_type": "markdown",
   "metadata": {},
   "source": [
    "### Day 2: Dive"
   ]
  },
  {
   "cell_type": "code",
   "execution_count": 6,
   "metadata": {},
   "outputs": [
    {
     "data": {
      "text/plain": [
       "['forward 9', 'down 8', 'down 2', 'down 4', 'up 8']"
      ]
     },
     "execution_count": 6,
     "metadata": {},
     "output_type": "execute_result"
    }
   ],
   "source": [
    "'''\n",
    "Part 1:\n",
    "forward X increases the horizontal position by X units.\n",
    "down X increases the depth by X units.\n",
    "up X decreases the depth by X units.\n",
    "\n",
    "Calculate the final horizontal position multiplied by the final depth\n",
    "'''\n",
    "\n",
    "\n",
    "f = open('day2input.txt', 'r')\n",
    "day2file = f.read().splitlines()\n",
    "day2file[:5]"
   ]
  },
  {
   "cell_type": "code",
   "execution_count": 29,
   "metadata": {},
   "outputs": [
    {
     "data": {
      "text/plain": [
       "2091984"
      ]
     },
     "execution_count": 29,
     "metadata": {},
     "output_type": "execute_result"
    }
   ],
   "source": [
    "def final_position(input_list):\n",
    "    x = 0\n",
    "    z = 0\n",
    "    for i in input_list:\n",
    "        direction, value = i.split(' ')\n",
    "        value = int(value)\n",
    "        if direction == 'forward':\n",
    "            x += value\n",
    "        elif direction == 'down':\n",
    "            z += value\n",
    "        else:\n",
    "            z -= value\n",
    "    return x*z\n",
    "\n",
    "final_position(day2file)"
   ]
  },
  {
   "cell_type": "code",
   "execution_count": null,
   "metadata": {},
   "outputs": [],
   "source": [
    "'''\n",
    "Part 2: Need to track a new unit \"aim\".\n",
    "\n",
    "down X increases your aim by X units.\n",
    "up X decreases your aim by X units.\n",
    "forward X does two things:\n",
    "It increases your horizontal position by X units.\n",
    "It increases your depth by your aim multiplied by X.\n",
    "'''"
   ]
  },
  {
   "cell_type": "code",
   "execution_count": 16,
   "metadata": {},
   "outputs": [],
   "source": [
    "testinput = [\n",
    "'forward 5',\n",
    "'down 5',\n",
    "'forward 8',\n",
    "'up 3',\n",
    "'down 8',\n",
    "'forward 2'\n",
    "]"
   ]
  },
  {
   "cell_type": "code",
   "execution_count": 40,
   "metadata": {},
   "outputs": [],
   "source": [
    "def final_position_with_aim(input_list):\n",
    "    x = 0\n",
    "    z = 0\n",
    "    a = 0\n",
    "    for i in input_list:\n",
    "        direction, value = i.split(' ')\n",
    "        value = int(value)\n",
    "        if direction == 'forward':\n",
    "            x += value\n",
    "            z += a*value\n",
    "        elif direction == 'down':\n",
    "            a += value\n",
    "        else:\n",
    "            a -= value\n",
    "\n",
    "\n",
    "    return x * z\n"
   ]
  },
  {
   "cell_type": "code",
   "execution_count": 42,
   "metadata": {},
   "outputs": [
    {
     "data": {
      "text/plain": [
       "2086261056"
      ]
     },
     "execution_count": 42,
     "metadata": {},
     "output_type": "execute_result"
    }
   ],
   "source": [
    "final_position_with_aim(day2file)"
   ]
  }
 ],
 "metadata": {
  "kernelspec": {
   "display_name": "Python 3",
   "language": "python",
   "name": "python3"
  },
  "language_info": {
   "codemirror_mode": {
    "name": "ipython",
    "version": 3
   },
   "file_extension": ".py",
   "mimetype": "text/x-python",
   "name": "python",
   "nbconvert_exporter": "python",
   "pygments_lexer": "ipython3",
   "version": "3.7.3"
  }
 },
 "nbformat": 4,
 "nbformat_minor": 2
}
